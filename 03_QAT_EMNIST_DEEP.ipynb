{
 "cells": [
  {
   "cell_type": "markdown",
   "metadata": {},
   "source": [
    "# Tutorial 03: Writing first EMNIST Program\n",
    "By Rahul GAWAI"
   ]
  },
  {
   "cell_type": "markdown",
   "metadata": {},
   "source": [
    "## Introduction\n",
    "This program is inspired by [GitHub](https://github.com/Hvass-Labs/TensorFlow-Tutorials)\n",
    "\n",
    "Python used: 3.6\n",
    "TensorFlow version: 1.10"
   ]
  },
  {
   "cell_type": "markdown",
   "metadata": {},
   "source": [
    "## Importing packages"
   ]
  },
  {
   "cell_type": "code",
   "execution_count": 1,
   "metadata": {
    "scrolled": false
   },
   "outputs": [],
   "source": [
    "import tensorflow as tf\n",
    "\n",
    "import csv\n",
    "import sys\n",
    "import os\n",
    "import urllib.request\n",
    "import gzip\n",
    "import numpy as np\n",
    "import matplotlib.pyplot as plt\n",
    "import random\n"
   ]
  },
  {
   "cell_type": "code",
   "execution_count": 22,
   "metadata": {},
   "outputs": [],
   "source": [
    "img_w = 28\n",
    "img_h = 28\n",
    "img_shape = (img_w, img_h)\n",
    "img_shape_storage = (img_w, img_h, 1)\n",
    "\n",
    "TRAIN_VAL_RATIO = 80\n",
    "\n",
    "DATASET_DIR = '/home/rahul/ML/SSD/emnist/'\n",
    "\n",
    "dataset_index_label = '/home/rahul/ML/SSD/emnist/dataset_index_label.csv'\n",
    "dataset_fname_index = '/home/rahul/ML/SSD/emnist/dataset_fname_index.csv'\n",
    "dataset_fname_index_shuffle = '/home/rahul/ML/SSD/emnist/dataset_fname_index_shuffle.csv'\n",
    "dataset_fname_index_train = '/home/rahul/ML/SSD/emnist/dataset_fname_index_train.csv'\n",
    "dataset_fname_index_val = '/home/rahul/ML/SSD/emnist/dataset_fname_index_val.csv'\n",
    "\n",
    "training_recname = '%s/emnist_%s.tfrecord' % (DATASET_DIR, x_train_file)\n",
    "testing_recname = '%s/emnist_%s.tfrecord' % (DATASET_DIR, x_test_file)\n",
    "\n",
    "export_dir = os.path.join('./02_QAT_MNIST/', 'export')"
   ]
  },
  {
   "cell_type": "code",
   "execution_count": 25,
   "metadata": {
    "scrolled": false
   },
   "outputs": [
    {
     "name": "stdout",
     "output_type": "stream",
     "text": [
      "Added Files:  372451  and labels:  ['O', 'R', 'Q', 'C', 'U', 'X', 'F', 'B', 'A', 'M', 'H', 'P', 'J', 'K', 'I', 'T', 'Y', 'E', 'L', 'V', 'Z', 'D', 'N', 'S', 'G', 'W'] 26\n",
      "Files are Ready !!\n"
     ]
    }
   ],
   "source": [
    "index = 0\n",
    "count = 0\n",
    "label = []\n",
    "\n",
    "indexFile = open(dataset_index_label, 'w', encoding=\"utf-8\")\n",
    "fnameFile = open(dataset_fname_index, 'w', encoding=\"utf-8\")\n",
    "\n",
    "for sdir in os.listdir(DATASET_DIR + '/emnist/'):\n",
    "    indexFile.write(sdir+\"\\n\")\n",
    "    label.append(sdir)\n",
    "#     print(\"Processing Directiory: \", DATASET_DIR+sdir)\n",
    "    for file in os.listdir(DATASET_DIR  + '/emnist/' + sdir):\n",
    "        row = DATASET_DIR+sdir+file + \",\" + str(index) + \"\\n\"\n",
    "        fnameFile.write(row)\n",
    "        count = count + 1\n",
    "    index = index + 1\n",
    "           \n",
    "indexFile.close()\n",
    "fnameFile.close()\n",
    "\n",
    "print(\"Added Files: \", count, \" and labels: \", label, index)\n",
    "\n",
    "fnameFile = open(dataset_fname_index, 'r', encoding=\"utf-8\")\n",
    "fnameFileShuffle = open(dataset_fname_index_shuffle, 'w', encoding=\"utf-8\")\n",
    "fnameTrain = open(dataset_fname_index_train, 'w', encoding=\"utf-8\")\n",
    "fnameVal = open(dataset_fname_index_val, 'w', encoding=\"utf-8\")\n",
    "\n",
    "lis=[line.split() for line in fnameFile]\n",
    "random.shuffle(lis)\n",
    "\n",
    "writer = csv.writer(fnameFileShuffle)\n",
    "\n",
    "for item in lis:\n",
    "    row = item[0].split(\",\")\n",
    "    rowsdtr = row[0] + \",\" + row[1] + \"\\n\"\n",
    "    fnameFileShuffle.write(rowsdtr)\n",
    "\n",
    "total = len(lis)\n",
    "TrainingEnd = int((total*TRAIN_VAL_RATIO)/100)\n",
    "\n",
    "for count in range(0, TrainingEnd):\n",
    "    item = lis[count]\n",
    "    row = item[0].split(\",\")\n",
    "    rowsdtr = row[0] + \",\" + row[1] + \"\\n\"\n",
    "    fnameTrain.write(rowsdtr)\n",
    "\n",
    "for count in range(TrainingEnd, total):\n",
    "    item = lis[count]\n",
    "    row = item[0].split(\",\")\n",
    "    rowsdtr = row[0] + \",\" + row[1] + \"\\n\"\n",
    "    fnameVal.write(rowsdtr)\n",
    "\n",
    "fnameFileShuffle.close()\n",
    "fnameFile.close()\n",
    "print(\"Files are Ready !!\")"
   ]
  },
  {
   "cell_type": "markdown",
   "metadata": {},
   "source": [
    "## Download dataset to a local folder."
   ]
  },
  {
   "cell_type": "code",
   "execution_count": 5,
   "metadata": {
    "scrolled": true
   },
   "outputs": [
    {
     "name": "stdout",
     "output_type": "stream",
     "text": [
      "\n",
      "x_train Set 60000\n",
      "y_train_cls Set 60000\n",
      "x_test Set 10000\n",
      "y_test_cls Set 10000\n"
     ]
    }
   ],
   "source": [
    "print()\n",
    "\n",
    "#save_path = os.path.join(download_dir, filename)\n",
    "\n",
    "x_train = download_img(x_train_url, x_train_file, target,16)\n",
    "print(\"x_train Set\", len(x_train))\n",
    "\n",
    "y_train_cls = download_cls(y_train_url, y_train_file, target,8)\n",
    "print(\"y_train_cls Set\", len(y_train_cls))\n",
    "\n",
    "x_test = download_img(x_test_url, x_test_file, target,16)\n",
    "print(\"x_test Set\", len(x_test))\n",
    "\n",
    "y_test_cls = download_cls(y_test_url, y_test_file, target,8)\n",
    "print(\"y_test_cls Set\", len(y_test_cls))\n"
   ]
  },
  {
   "cell_type": "code",
   "execution_count": 6,
   "metadata": {
    "scrolled": true
   },
   "outputs": [
    {
     "name": "stdout",
     "output_type": "stream",
     "text": [
      "Training Set 60000  images and  60000  classes.\n",
      "Validation Set 0  images and  0  classes.\n",
      "Test Set 10000  images and  10000  classes.\n"
     ]
    }
   ],
   "source": [
    "num_train = 60000\n",
    "num_val = 5000\n",
    "num_test = 10000\n",
    "\n",
    "X_train = x_train[0:num_train] / 255.0\n",
    "Y_train_cls = y_train_cls[0:num_train]\n",
    "\n",
    "X_val = x_train[num_train:] / 255.0\n",
    "Y_val_cls = y_train_cls[num_train:]\n",
    "\n",
    "print(\"Training Set\", len(X_train), \" images and \", len(Y_train_cls), \" classes.\")\n",
    "print(\"Validation Set\", len(X_val), \" images and \", len(Y_val_cls), \" classes.\")\n",
    "\n",
    "X_test = x_test[0:num_test] / 255.0\n",
    "Y_test_cls = y_test_cls[0:num_test]\n",
    "\n",
    "print(\"Test Set\", len(X_test), \" images and \", len(Y_test_cls), \" classes.\")"
   ]
  },
  {
   "cell_type": "code",
   "execution_count": 7,
   "metadata": {},
   "outputs": [],
   "source": [
    "def plot_images(images, cls_true, cls_pred=None, img_w=28, img_h=28):\n",
    "    assert len(images) == len(cls_true) == 9\n",
    "\n",
    "\n",
    "    # Create figure with 3x3 sub-plots.\n",
    "    fig, axes = plt.subplots(3, 3)\n",
    "    fig.subplots_adjust(hspace=0.3, wspace=0.3)\n",
    "\n",
    "    for i, ax in enumerate(axes.flat):\n",
    "        # Plot image.\n",
    "        ax.imshow(images[i].reshape(img_shape), cmap='binary')\n",
    "\n",
    "        # Show true and predicted classes.\n",
    "        if cls_pred is None:\n",
    "            xlabel = \"True: {0}\".format(cls_true[i])\n",
    "        else:\n",
    "            xlabel = \"True: {0}, Pred: {1}\".format(cls_true[i], cls_pred[i])\n",
    "\n",
    "        ax.set_xlabel(xlabel)\n",
    "        \n",
    "        # Remove ticks from the plot.\n",
    "        ax.set_xticks([])\n",
    "        ax.set_yticks([])\n",
    "        \n",
    "    # Ensure the plot is shown correctly with multiple plots\n",
    "    # in a single Notebook cell.\n",
    "    plt.show()"
   ]
  },
  {
   "cell_type": "code",
   "execution_count": 8,
   "metadata": {
    "scrolled": true
   },
   "outputs": [
    {
     "data": {
      "image/png": "[encoded data removed]",
      "text/plain": [
       "<Figure size 432x288 with 9 Axes>"
      ]
     },
     "metadata": {},
     "output_type": "display_data"
    }
   ],
   "source": [
    "# Get the first images from the test-set.\n",
    "images = X_test[0:9]\n",
    "\n",
    "# Get the true classes for those images.\n",
    "cls_true = Y_test_cls[0:9]\n",
    "\n",
    "# Plot the images and labels using our helper-function above.\n",
    "plot_images(images=images, cls_true=cls_true)"
   ]
  },
  {
   "cell_type": "markdown",
   "metadata": {},
   "source": [
    "## One Hot Encoding"
   ]
  },
  {
   "cell_type": "code",
   "execution_count": 9,
   "metadata": {
    "scrolled": true
   },
   "outputs": [
    {
     "data": {
      "text/plain": [
       "array([[0., 0., 0., 0., 0., 0., 0., 1., 0., 0.],\n",
       "       [0., 0., 1., 0., 0., 0., 0., 0., 0., 0.],\n",
       "       [0., 1., 0., 0., 0., 0., 0., 0., 0., 0.],\n",
       "       [1., 0., 0., 0., 0., 0., 0., 0., 0., 0.],\n",
       "       [0., 0., 0., 0., 1., 0., 0., 0., 0., 0.]])"
      ]
     },
     "execution_count": 9,
     "metadata": {},
     "output_type": "execute_result"
    }
   ],
   "source": [
    "y_train_cls_char = Y_train_cls.astype(np.int)\n",
    "y_val_cls_char = Y_val_cls.astype(np.int)\n",
    "y_test_cls_char = Y_test_cls.astype(np.int)\n",
    "\n",
    "Y_train_OHE = np.eye(10, dtype=float)[y_train_cls_char]\n",
    "Y_val_OHE = np.eye(10, dtype=float)[y_val_cls_char]\n",
    "Y_test_OHE = np.eye(10, dtype=float)[y_test_cls_char]\n",
    "\n",
    "Y_test_OHE[0:5, :]"
   ]
  },
  {
   "cell_type": "markdown",
   "metadata": {},
   "source": [
    "## TF-record (Optional)\n",
    "\n",
    "[Referred this implementation to create tf.record](https://github.com/tensorflow/models/blob/master/research/slim/datasets/download_and_convert_mnist.py)"
   ]
  },
  {
   "cell_type": "code",
   "execution_count": 10,
   "metadata": {},
   "outputs": [],
   "source": [
    "def int64_feature(values):\n",
    "  if not isinstance(values, (tuple, list)):\n",
    "    values = [values]\n",
    "  return tf.train.Feature(int64_list=tf.train.Int64List(value=values))"
   ]
  },
  {
   "cell_type": "code",
   "execution_count": 11,
   "metadata": {},
   "outputs": [],
   "source": [
    "def image_to_tfexample(image_data, image_format, height, width, class_id):\n",
    "  return tf.train.Example(features=tf.train.Features(feature={\n",
    "      'image/encoded':  tf.train.Feature(bytes_list=tf.train.BytesList(value=[image_data])),\n",
    "      'image/format':  tf.train.Feature(bytes_list=tf.train.BytesList(value=[image_format])),\n",
    "      'image/class/label': int64_feature(class_id),\n",
    "      'image/height': int64_feature(height),\n",
    "      'image/width': int64_feature(width)\n",
    "  }))"
   ]
  },
  {
   "cell_type": "code",
   "execution_count": 12,
   "metadata": {
    "scrolled": true
   },
   "outputs": [],
   "source": [
    "def _add_to_tfrecord(data_filename, labels_filename, num_images, tfrecord_writer, images, labels, dump):\n",
    "    with tf.Graph().as_default():\n",
    "        image = tf.placeholder(dtype=tf.uint8, shape=img_shape_storage)\n",
    "        encoded_png = tf.image.encode_png(image)\n",
    "\n",
    "        num_images = len(images)\n",
    "        images = images.reshape(-1, img_w, img_h, 1)\n",
    "\n",
    "        with tf.Session('') as sess:\n",
    "            for j in range(num_images):\n",
    "                sys.stdout.write('\\r>> Converting image %d/%d' % (j + 1, num_images))\n",
    "                sys.stdout.flush()\n",
    "\n",
    "                png_string = sess.run(encoded_png, feed_dict={image: images[j]})\n",
    "                example = image_to_tfexample(png_string, 'png'.encode(), img_w, img_h, labels[j])\n",
    "                tfrecord_writer.write(example.SerializeToString())\n",
    "\n",
    "                if dump == True:\n",
    "                    pngFname = target + \"/PNGs/\" + \"train_%d.png\" % (j)\n",
    "                    pngFile=open(pngFname,'wb')\n",
    "                    pngFile.write(png_string);\n",
    "                    pngFile.close()\n",
    "                \n"
   ]
  },
  {
   "cell_type": "code",
   "execution_count": 13,
   "metadata": {
    "scrolled": false
   },
   "outputs": [
    {
     "name": "stdout",
     "output_type": "stream",
     "text": [
      "x_train Set 60000\n",
      "y_train_cls Set 60000\n",
      "x_test Set 10000\n",
      "y_test_cls Set 10000\n",
      "60000\n"
     ]
    }
   ],
   "source": [
    "x_train = download_img(x_train_url, x_train_file, target,16)\n",
    "print(\"x_train Set\", len(x_train))\n",
    "\n",
    "y_train_cls = download_cls(y_train_url, y_train_file, target,8)\n",
    "print(\"y_train_cls Set\", len(y_train_cls))\n",
    "\n",
    "x_test = download_img(x_test_url, x_test_file, target,16)\n",
    "print(\"x_test Set\", len(x_test))\n",
    "\n",
    "y_test_cls = download_cls(y_test_url, y_test_file, target,8)\n",
    "print(\"y_test_cls Set\", len(y_test_cls))\n",
    "\n",
    "print(len(x_train))\n",
    "\n",
    "if not os.path.exists(training_recname):\n",
    "    with tf.python_io.TFRecordWriter(training_recname) as tfrecord_writer:\n",
    "        _add_to_tfrecord(x_train_rpath, y_train_rpath, 60000, tfrecord_writer, x_train, y_train_cls, False)\n",
    "\n",
    "if not os.path.exists(testing_recname):\n",
    "    with tf.python_io.TFRecordWriter(testing_recname) as tfrecord_writer:\n",
    "        _add_to_tfrecord(x_test_rpath, y_test_rpath, 10000, tfrecord_writer, x_test, y_test_cls, False)"
   ]
  },
  {
   "cell_type": "markdown",
   "metadata": {},
   "source": [
    "## Main Function()"
   ]
  },
  {
   "cell_type": "code",
   "execution_count": 14,
   "metadata": {},
   "outputs": [],
   "source": [
    "def parser(record):\n",
    "    keys_to_features = {\n",
    "        \"image/encoded\":  tf.FixedLenFeature([], tf.string),\n",
    "        \"image/format\":  tf.FixedLenFeature([], tf.string),\n",
    "        \"image/class/label\": tf.FixedLenFeature([], tf.int64),\n",
    "        \"image/height\": tf.FixedLenFeature([], tf.int64),\n",
    "        \"image/width\": tf.FixedLenFeature([], tf.int64)\n",
    "    }\n",
    "\n",
    "    parsed = tf.parse_single_example(record, keys_to_features)\n",
    "\n",
    "    height = tf.cast(parsed[\"image/height\"], tf.int32)\n",
    "    width = tf.cast(parsed[\"image/width\"], tf.int32)\n",
    "    label = tf.cast(parsed[\"image/class/label\"], tf.int32)\n",
    "    image = tf.cast(tf.image.decode_png(parsed[\"image/encoded\"], channels=1), tf.float32)\n",
    "    \n",
    " \n",
    "    return {'image': image}, label"
   ]
  },
  {
   "cell_type": "code",
   "execution_count": 15,
   "metadata": {},
   "outputs": [],
   "source": [
    "def input_fn(filenames):\n",
    "    \n",
    "    BATCH_SIZE = 64\n",
    "    THREADS = 4\n",
    "    PREFETCH = 64\n",
    "    \n",
    "    dataset = tf.data.TFRecordDataset(filenames=filenames, num_parallel_reads=THREADS)\n",
    "    dataset = dataset.apply(\n",
    "        tf.contrib.data.shuffle_and_repeat(1024, 1)\n",
    "    )\n",
    "    dataset = dataset.apply(\n",
    "        tf.contrib.data.map_and_batch(parser, BATCH_SIZE)\n",
    "    )\n",
    "\n",
    "    dataset = dataset.prefetch(buffer_size=PREFETCH)\n",
    "    return dataset"
   ]
  },
  {
   "cell_type": "code",
   "execution_count": 16,
   "metadata": {},
   "outputs": [],
   "source": [
    "def train_input_fn():\n",
    "    return input_fn(filenames=[training_recname])"
   ]
  },
  {
   "cell_type": "code",
   "execution_count": 17,
   "metadata": {},
   "outputs": [],
   "source": [
    "def val_input_fn():\n",
    "    return input_fn(filenames=[testing_recname])"
   ]
  },
  {
   "cell_type": "code",
   "execution_count": 18,
   "metadata": {},
   "outputs": [],
   "source": [
    "def fetch_all_val_images():\n",
    "\n",
    "    BATCH_SIZE = 10000\n",
    "    THREADS = 4\n",
    "\n",
    "    dataset = tf.data.TFRecordDataset(filenames=[testing_recname], num_parallel_reads=THREADS)\n",
    "    dataset = dataset.apply(\n",
    "        tf.contrib.data.map_and_batch(parser, BATCH_SIZE)\n",
    "    )\n",
    "\n",
    "    return dataset"
   ]
  },
  {
   "cell_type": "code",
   "execution_count": 19,
   "metadata": {},
   "outputs": [],
   "source": [
    "def cnn_model_fn(features, labels, mode, params):\n",
    "    \"\"\"Model function for CNN.\"\"\"\n",
    "    # Input Layer\n",
    "    # Reshape X to 4-D tensor: [batch_size, width, height, channels]\n",
    "    # MNIST images are 28x28 pixels, and have one color channel\n",
    "\n",
    "    # Print all of the operations in the default graph.\n",
    "\n",
    "    net = features[\"image\"]\n",
    "\n",
    "    net = tf.identity(net, name=\"input_tensor\")\n",
    "\n",
    "    net = tf.reshape(net, [-1, 28, 28, 1])\n",
    "\n",
    "    # Convolutional Layer #1\n",
    "    # Computes 32 features using a 5x5 filter with ReLU activation.\n",
    "    # Padding is added to preserve width and height.\n",
    "    # Input Tensor Shape: [batch_size, 28, 28, 1]\n",
    "    # Output Tensor Shape: [batch_size, 28, 28, 32]\n",
    "    conv1 = tf.layers.conv2d(inputs=net, filters=32,kernel_size=[5, 5],padding=\"same\", activation=tf.nn.relu, name=\"conv1-layer\")\n",
    "    \n",
    "    # Pooling Layer #1\n",
    "    # First max pooling layer with a 2x2 filter and stride of 2\n",
    "    # Input Tensor Shape: [batch_size, 28, 28, 32]\n",
    "    # Output Tensor Shape: [batch_size, 14, 14, 32]\n",
    "    pool1 = tf.layers.max_pooling2d(inputs=conv1, pool_size=[2, 2], strides=2, name=\"pool1-layer\")\n",
    "\n",
    "    # Convolutional Layer #2\n",
    "    # Computes 64 features using a 5x5 filter.\n",
    "    # Padding is added to preserve width and height.\n",
    "    # Input Tensor Shape: [batch_size, 14, 14, 32]\n",
    "    # Output Tensor Shape: [batch_size, 14, 14, 64]\n",
    "    conv2 = tf.layers.conv2d(inputs=pool1,filters=64,kernel_size=[5, 5],padding=\"same\",activation=tf.nn.relu, name=\"conv2-layer\")\n",
    "\n",
    "    # Pooling Layer #2\n",
    "    # Second max pooling layer with a 2x2 filter and stride of 2\n",
    "    # Input Tensor Shape: [batch_size, 14, 14, 64]\n",
    "    # Output Tensor Shape: [batch_size, 7, 7, 64]\n",
    "    pool2 = tf.layers.max_pooling2d(inputs=conv2, pool_size=[2, 2], strides=2, name=\"pool2-layer\")\n",
    "\n",
    "    # Flatten tensor into a batch of vectors\n",
    "    # Input Tensor Shape: [batch_size, 7, 7, 64]\n",
    "    # Output Tensor Shape: [batch_size, 7 * 7 * 64]\n",
    "    pool2_flat = tf.reshape(pool2, [-1, 7 * 7 * 64])\n",
    "\n",
    "    # Dense Layer\n",
    "    # Densely connected layer with 1024 neurons\n",
    "    # Input Tensor Shape: [batch_size, 7 * 7 * 64]\n",
    "    # Output Tensor Shape: [batch_size, 1024]\n",
    "    dense = tf.layers.dense(inputs=pool2_flat, units=1024, activation=tf.nn.relu, name=\"dense-layer\")\n",
    "\n",
    "    # Add dropout operation; 0.6 probability that element will be kept\n",
    "    dropout = tf.layers.dropout(inputs=dense, rate=0.4, training=mode == tf.estimator.ModeKeys.TRAIN)\n",
    "\n",
    "    # Logits layer\n",
    "    # Input Tensor Shape: [batch_size, 1024]\n",
    "    # Output Tensor Shape: [batch_size, 10]\n",
    "    logits = tf.layers.dense(inputs=dropout, units=10)\n",
    "\n",
    "    predictions = {\n",
    "        \"classes\": tf.argmax(input=logits, axis=1), \"probabilities\": tf.nn.softmax(logits, name=\"softmax_tensor\")\n",
    "    }\n",
    "\n",
    "    if mode == tf.estimator.ModeKeys.PREDICT:\n",
    "        return tf.estimator.EstimatorSpec(mode=mode, predictions=predictions)\n",
    "\n",
    "    # Calculate Loss (for both TRAIN and EVAL modes)\n",
    "    loss = tf.losses.sparse_softmax_cross_entropy(labels=labels, logits=logits)\n",
    "\n",
    "#     if mode == tf.estimator.ModeKeys.TRAIN:\n",
    "#         # Call rewriter to produce graph with fake quant ops and folded batch norms\n",
    "#         # quant_delay delays start of quantization till quant_delay steps, allowing\n",
    "#         # for better model accuracy.\n",
    "#         g = tf.get_default_graph()\n",
    "#         tf.contrib.quantize.create_training_graph(input_graph=g, quant_delay=1000)\n",
    "\n",
    "#     if mode == tf.estimator.ModeKeys.EVAL:\n",
    "#         # Call the eval rewrite which rewrites the graph in-place with\n",
    "#         # FakeQuantization nodes and fold batchnorm for eval.\n",
    "#         g = tf.get_default_graph()\n",
    "#         tf.contrib.quantize.create_eval_graph(input_graph=g)     \n",
    "\n",
    "\n",
    "    # Configure the Training Op (for TRAIN mode)\n",
    "    if mode == tf.estimator.ModeKeys.TRAIN:\n",
    "        optimizer = tf.train.GradientDescentOptimizer(learning_rate=0.001)\n",
    "        train_op = optimizer.minimize(loss=loss,global_step=tf.train.get_global_step())\n",
    "        return tf.estimator.EstimatorSpec(mode=mode, loss=loss, train_op=train_op)\n",
    "\n",
    "    # Add evaluation metrics (for EVAL mode)\n",
    "    eval_metric_ops = {\n",
    "        \"accuracy\": tf.metrics.accuracy(labels=labels, predictions=predictions[\"classes\"])\n",
    "    }\n",
    "\n",
    "    return tf.estimator.EstimatorSpec(mode=mode, loss=loss, eval_metric_ops=eval_metric_ops)"
   ]
  },
  {
   "cell_type": "code",
   "execution_count": 20,
   "metadata": {
    "scrolled": true
   },
   "outputs": [
    {
     "name": "stdout",
     "output_type": "stream",
     "text": [
      "INFO:tensorflow:Using default config.\n",
      "INFO:tensorflow:Using config: {'_model_dir': '02_QAT_MNIST', '_tf_random_seed': None, '_save_summary_steps': 100, '_save_checkpoints_steps': None, '_save_checkpoints_secs': 600, '_session_config': allow_soft_placement: true\n",
      "graph_options {\n",
      "  rewrite_options {\n",
      "    meta_optimizer_iterations: ONE\n",
      "  }\n",
      "}\n",
      ", '_keep_checkpoint_max': 5, '_keep_checkpoint_every_n_hours': 10000, '_log_step_count_steps': 100, '_train_distribute': None, '_device_fn': None, '_protocol': None, '_eval_distribute': None, '_experimental_distribute': None, '_service': None, '_cluster_spec': <tensorflow.python.training.server_lib.ClusterSpec object at 0x7f45fb2b75c0>, '_task_type': 'worker', '_task_id': 0, '_global_id_in_cluster': 0, '_master': '', '_evaluation_master': '', '_is_chief': True, '_num_ps_replicas': 0, '_num_worker_replicas': 1}\n",
      "WARNING:tensorflow:From <ipython-input-15-545d84d7a83e>:9: shuffle_and_repeat (from tensorflow.contrib.data.python.ops.shuffle_ops) is deprecated and will be removed in a future version.\n",
      "Instructions for updating:\n",
      "Use `tf.data.experimental.shuffle_and_repeat(...)`.\n",
      "WARNING:tensorflow:From <ipython-input-15-545d84d7a83e>:12: map_and_batch (from tensorflow.contrib.data.python.ops.batching) is deprecated and will be removed in a future version.\n",
      "Instructions for updating:\n",
      "Use `tf.data.experimental.map_and_batch(...)`.\n",
      "INFO:tensorflow:Calling model_fn.\n",
      "INFO:tensorflow:Done calling model_fn.\n",
      "INFO:tensorflow:Create CheckpointSaverHook.\n",
      "INFO:tensorflow:Graph was finalized.\n",
      "INFO:tensorflow:Running local_init_op.\n",
      "INFO:tensorflow:Done running local_init_op.\n",
      "INFO:tensorflow:Saving checkpoints for 0 into 02_QAT_MNIST/model.ckpt.\n",
      "INFO:tensorflow:loss = 24.680899, step = 0\n",
      "INFO:tensorflow:global_step/sec: 392.004\n",
      "INFO:tensorflow:loss = 0.6270354, step = 100 (0.256 sec)\n",
      "INFO:tensorflow:global_step/sec: 513.806\n",
      "INFO:tensorflow:loss = 0.42869622, step = 200 (0.195 sec)\n",
      "INFO:tensorflow:global_step/sec: 525.835\n",
      "INFO:tensorflow:loss = 0.3914283, step = 300 (0.190 sec)\n",
      "INFO:tensorflow:global_step/sec: 524.712\n",
      "INFO:tensorflow:loss = 0.26112044, step = 400 (0.190 sec)\n",
      "INFO:tensorflow:global_step/sec: 531.819\n",
      "INFO:tensorflow:loss = 0.31908187, step = 500 (0.188 sec)\n",
      "INFO:tensorflow:global_step/sec: 526.116\n",
      "INFO:tensorflow:loss = 0.09347874, step = 600 (0.190 sec)\n",
      "INFO:tensorflow:global_step/sec: 530.261\n",
      "INFO:tensorflow:loss = 0.22068919, step = 700 (0.188 sec)\n",
      "INFO:tensorflow:global_step/sec: 503.828\n",
      "INFO:tensorflow:loss = 0.16974714, step = 800 (0.199 sec)\n",
      "INFO:tensorflow:Saving checkpoints for 900 into 02_QAT_MNIST/model.ckpt.\n",
      "INFO:tensorflow:Loss for final step: 0.03394115.\n",
      "Time Take per Iternation of training is : 450.881487%INFO:tensorflow:Calling model_fn.\n",
      "INFO:tensorflow:Done calling model_fn.\n",
      "INFO:tensorflow:Starting evaluation at 2019-01-15-06:39:11\n",
      "INFO:tensorflow:Graph was finalized.\n",
      "INFO:tensorflow:Restoring parameters from 02_QAT_MNIST/model.ckpt-900\n",
      "INFO:tensorflow:Running local_init_op.\n",
      "INFO:tensorflow:Done running local_init_op.\n",
      "INFO:tensorflow:Finished evaluation at 2019-01-15-06:39:11\n",
      "INFO:tensorflow:Saving dict for global step 900: accuracy = 0.9653, global_step = 900, loss = 0.108613156\n",
      "INFO:tensorflow:Saving 'checkpoint_path' summary for global step 900: 02_QAT_MNIST/model.ckpt-900\n",
      "Classification accuracy: 96.53%INFO:tensorflow:Calling model_fn.\n",
      "INFO:tensorflow:Done calling model_fn.\n",
      "INFO:tensorflow:Create CheckpointSaverHook.\n",
      "INFO:tensorflow:Graph was finalized.\n",
      "INFO:tensorflow:Restoring parameters from 02_QAT_MNIST/model.ckpt-900\n",
      "INFO:tensorflow:Running local_init_op.\n",
      "INFO:tensorflow:Done running local_init_op.\n",
      "INFO:tensorflow:Saving checkpoints for 900 into 02_QAT_MNIST/model.ckpt.\n",
      "INFO:tensorflow:loss = 0.33134115, step = 900\n",
      "INFO:tensorflow:global_step/sec: 422.84\n",
      "INFO:tensorflow:loss = 0.14768738, step = 1000 (0.237 sec)\n",
      "INFO:tensorflow:global_step/sec: 522.939\n",
      "INFO:tensorflow:loss = 0.24869412, step = 1100 (0.191 sec)\n",
      "INFO:tensorflow:global_step/sec: 530.6\n",
      "INFO:tensorflow:loss = 0.08825572, step = 1200 (0.188 sec)\n",
      "INFO:tensorflow:global_step/sec: 528.789\n",
      "INFO:tensorflow:loss = 0.06613192, step = 1300 (0.189 sec)\n",
      "INFO:tensorflow:global_step/sec: 520.419\n",
      "INFO:tensorflow:loss = 0.1469255, step = 1400 (0.192 sec)\n",
      "INFO:tensorflow:global_step/sec: 525.984\n",
      "INFO:tensorflow:loss = 0.12857556, step = 1500 (0.190 sec)\n",
      "INFO:tensorflow:global_step/sec: 526.309\n",
      "INFO:tensorflow:loss = 0.14572237, step = 1600 (0.190 sec)\n",
      "INFO:tensorflow:global_step/sec: 534.776\n",
      "INFO:tensorflow:loss = 0.05501428, step = 1700 (0.187 sec)\n",
      "INFO:tensorflow:Saving checkpoints for 1800 into 02_QAT_MNIST/model.ckpt.\n",
      "INFO:tensorflow:Loss for final step: 0.052981753.\n",
      "Time Take per Iternation of training is : 218.249970%INFO:tensorflow:Calling model_fn.\n",
      "INFO:tensorflow:Done calling model_fn.\n",
      "INFO:tensorflow:Starting evaluation at 2019-01-15-06:39:13\n",
      "INFO:tensorflow:Graph was finalized.\n",
      "INFO:tensorflow:Restoring parameters from 02_QAT_MNIST/model.ckpt-1800\n",
      "INFO:tensorflow:Running local_init_op.\n",
      "INFO:tensorflow:Done running local_init_op.\n",
      "INFO:tensorflow:Finished evaluation at 2019-01-15-06:39:14\n",
      "INFO:tensorflow:Saving dict for global step 1800: accuracy = 0.976, global_step = 1800, loss = 0.07605916\n",
      "INFO:tensorflow:Saving 'checkpoint_path' summary for global step 1800: 02_QAT_MNIST/model.ckpt-1800\n",
      "Classification accuracy: 97.60%INFO:tensorflow:Calling model_fn.\n",
      "INFO:tensorflow:Done calling model_fn.\n",
      "INFO:tensorflow:Create CheckpointSaverHook.\n",
      "INFO:tensorflow:Graph was finalized.\n",
      "INFO:tensorflow:Restoring parameters from 02_QAT_MNIST/model.ckpt-1800\n",
      "INFO:tensorflow:Running local_init_op.\n",
      "INFO:tensorflow:Done running local_init_op.\n",
      "INFO:tensorflow:Saving checkpoints for 1800 into 02_QAT_MNIST/model.ckpt.\n",
      "INFO:tensorflow:loss = 0.10763915, step = 1800\n",
      "INFO:tensorflow:global_step/sec: 424.987\n",
      "INFO:tensorflow:loss = 0.13254279, step = 1900 (0.236 sec)\n",
      "INFO:tensorflow:global_step/sec: 529.059\n",
      "INFO:tensorflow:loss = 0.200082, step = 2000 (0.189 sec)\n",
      "INFO:tensorflow:global_step/sec: 527.522\n",
      "INFO:tensorflow:loss = 0.049762838, step = 2100 (0.190 sec)\n",
      "INFO:tensorflow:global_step/sec: 529.659\n",
      "INFO:tensorflow:loss = 0.17837223, step = 2200 (0.189 sec)\n",
      "INFO:tensorflow:global_step/sec: 525.489\n",
      "INFO:tensorflow:loss = 0.15087402, step = 2300 (0.190 sec)\n",
      "INFO:tensorflow:global_step/sec: 526.131\n",
      "INFO:tensorflow:loss = 0.16669758, step = 2400 (0.190 sec)\n",
      "INFO:tensorflow:global_step/sec: 526.518\n",
      "INFO:tensorflow:loss = 0.017764421, step = 2500 (0.190 sec)\n",
      "INFO:tensorflow:global_step/sec: 517.61\n",
      "INFO:tensorflow:loss = 0.05913885, step = 2600 (0.193 sec)\n",
      "INFO:tensorflow:Saving checkpoints for 2700 into 02_QAT_MNIST/model.ckpt.\n",
      "INFO:tensorflow:Loss for final step: 0.13807683.\n",
      "Time Take per Iternation of training is : 223.819871%INFO:tensorflow:Calling model_fn.\n",
      "INFO:tensorflow:Done calling model_fn.\n",
      "INFO:tensorflow:Starting evaluation at 2019-01-15-06:39:16\n",
      "INFO:tensorflow:Graph was finalized.\n",
      "INFO:tensorflow:Restoring parameters from 02_QAT_MNIST/model.ckpt-2700\n",
      "INFO:tensorflow:Running local_init_op.\n",
      "INFO:tensorflow:Done running local_init_op.\n",
      "INFO:tensorflow:Finished evaluation at 2019-01-15-06:39:16\n",
      "INFO:tensorflow:Saving dict for global step 2700: accuracy = 0.9793, global_step = 2700, loss = 0.065704234\n",
      "INFO:tensorflow:Saving 'checkpoint_path' summary for global step 2700: 02_QAT_MNIST/model.ckpt-2700\n",
      "Classification accuracy: 97.93%INFO:tensorflow:Calling model_fn.\n",
      "INFO:tensorflow:Done calling model_fn.\n",
      "INFO:tensorflow:Create CheckpointSaverHook.\n",
      "INFO:tensorflow:Graph was finalized.\n",
      "INFO:tensorflow:Restoring parameters from 02_QAT_MNIST/model.ckpt-2700\n",
      "INFO:tensorflow:Running local_init_op.\n",
      "INFO:tensorflow:Done running local_init_op.\n",
      "INFO:tensorflow:Saving checkpoints for 2700 into 02_QAT_MNIST/model.ckpt.\n",
      "INFO:tensorflow:loss = 0.057824917, step = 2700\n",
      "INFO:tensorflow:global_step/sec: 431.368\n",
      "INFO:tensorflow:loss = 0.2542783, step = 2800 (0.232 sec)\n",
      "INFO:tensorflow:global_step/sec: 532.065\n",
      "INFO:tensorflow:loss = 0.089419074, step = 2900 (0.188 sec)\n",
      "INFO:tensorflow:global_step/sec: 528.282\n",
      "INFO:tensorflow:loss = 0.06423138, step = 3000 (0.189 sec)\n",
      "INFO:tensorflow:global_step/sec: 530.99\n",
      "INFO:tensorflow:loss = 0.029868348, step = 3100 (0.189 sec)\n",
      "INFO:tensorflow:global_step/sec: 529.153\n"
     ]
    },
    {
     "name": "stdout",
     "output_type": "stream",
     "text": [
      "INFO:tensorflow:loss = 0.100378916, step = 3200 (0.189 sec)\n",
      "INFO:tensorflow:global_step/sec: 525.222\n",
      "INFO:tensorflow:loss = 0.028328758, step = 3300 (0.190 sec)\n",
      "INFO:tensorflow:global_step/sec: 523.268\n",
      "INFO:tensorflow:loss = 0.05341384, step = 3400 (0.191 sec)\n",
      "INFO:tensorflow:global_step/sec: 528.359\n",
      "INFO:tensorflow:loss = 0.012371156, step = 3500 (0.189 sec)\n",
      "INFO:tensorflow:Saving checkpoints for 3600 into 02_QAT_MNIST/model.ckpt.\n",
      "INFO:tensorflow:Loss for final step: 0.059472412.\n",
      "Time Take per Iternation of training is : 221.222856%INFO:tensorflow:Calling model_fn.\n",
      "INFO:tensorflow:Done calling model_fn.\n",
      "INFO:tensorflow:Starting evaluation at 2019-01-15-06:39:19\n",
      "INFO:tensorflow:Graph was finalized.\n",
      "INFO:tensorflow:Restoring parameters from 02_QAT_MNIST/model.ckpt-3600\n",
      "INFO:tensorflow:Running local_init_op.\n",
      "INFO:tensorflow:Done running local_init_op.\n",
      "INFO:tensorflow:Finished evaluation at 2019-01-15-06:39:19\n",
      "INFO:tensorflow:Saving dict for global step 3600: accuracy = 0.982, global_step = 3600, loss = 0.057926353\n",
      "INFO:tensorflow:Saving 'checkpoint_path' summary for global step 3600: 02_QAT_MNIST/model.ckpt-3600\n",
      "Classification accuracy: 98.20%INFO:tensorflow:Calling model_fn.\n",
      "INFO:tensorflow:Done calling model_fn.\n",
      "INFO:tensorflow:Create CheckpointSaverHook.\n",
      "INFO:tensorflow:Graph was finalized.\n",
      "INFO:tensorflow:Restoring parameters from 02_QAT_MNIST/model.ckpt-3600\n",
      "INFO:tensorflow:Running local_init_op.\n",
      "INFO:tensorflow:Done running local_init_op.\n",
      "INFO:tensorflow:Saving checkpoints for 3600 into 02_QAT_MNIST/model.ckpt.\n",
      "INFO:tensorflow:loss = 0.15406094, step = 3600\n",
      "INFO:tensorflow:global_step/sec: 431.329\n",
      "INFO:tensorflow:loss = 0.02154551, step = 3700 (0.232 sec)\n",
      "INFO:tensorflow:global_step/sec: 522.199\n",
      "INFO:tensorflow:loss = 0.118769035, step = 3800 (0.191 sec)\n",
      "INFO:tensorflow:global_step/sec: 522.089\n",
      "INFO:tensorflow:loss = 0.0062951604, step = 3900 (0.192 sec)\n",
      "INFO:tensorflow:global_step/sec: 522.506\n",
      "INFO:tensorflow:loss = 0.13219962, step = 4000 (0.191 sec)\n",
      "INFO:tensorflow:global_step/sec: 521.206\n",
      "INFO:tensorflow:loss = 0.030053934, step = 4100 (0.192 sec)\n",
      "INFO:tensorflow:global_step/sec: 518.223\n",
      "INFO:tensorflow:loss = 0.024730282, step = 4200 (0.193 sec)\n",
      "INFO:tensorflow:global_step/sec: 527.727\n",
      "INFO:tensorflow:loss = 0.0091509, step = 4300 (0.189 sec)\n",
      "INFO:tensorflow:global_step/sec: 527.757\n",
      "INFO:tensorflow:loss = 0.009983968, step = 4400 (0.190 sec)\n",
      "INFO:tensorflow:Saving checkpoints for 4500 into 02_QAT_MNIST/model.ckpt.\n",
      "INFO:tensorflow:Loss for final step: 0.05518607.\n",
      "Time Take per Iternation of training is : 218.865598%INFO:tensorflow:Calling model_fn.\n",
      "INFO:tensorflow:Done calling model_fn.\n",
      "INFO:tensorflow:Starting evaluation at 2019-01-15-06:39:21\n",
      "INFO:tensorflow:Graph was finalized.\n",
      "INFO:tensorflow:Restoring parameters from 02_QAT_MNIST/model.ckpt-4500\n",
      "INFO:tensorflow:Running local_init_op.\n",
      "INFO:tensorflow:Done running local_init_op.\n",
      "INFO:tensorflow:Finished evaluation at 2019-01-15-06:39:21\n",
      "INFO:tensorflow:Saving dict for global step 4500: accuracy = 0.9841, global_step = 4500, loss = 0.051180307\n",
      "INFO:tensorflow:Saving 'checkpoint_path' summary for global step 4500: 02_QAT_MNIST/model.ckpt-4500\n",
      "Classification accuracy: 98.41%"
     ]
    }
   ],
   "source": [
    "sess = tf.Session()\n",
    "sess.run(tf.global_variables_initializer())\n",
    "\n",
    "if os.path.exists(\"02_QAT_MNIST\"):\n",
    "    tf.gfile.DeleteRecursively(\"02_QAT_MNIST\");tf.gfile.MakeDirs(\"02_QAT_MNIST\")\n",
    "    tf.summary.FileWriterCache.clear()\n",
    "\n",
    "model = tf.estimator.Estimator(model_fn=cnn_model_fn,\n",
    "                               params={\"learning_rate\": 1e-4},\n",
    "                               model_dir=\"02_QAT_MNIST\")\n",
    "\n",
    "import timeit\n",
    "\n",
    "EPOCHS = 5\n",
    "STEP_SIZE = 900\n",
    "count = 0\n",
    "\n",
    "while (count < EPOCHS):\n",
    "    start_time = timeit.default_timer()\n",
    "    model.train(input_fn=train_input_fn, steps=STEP_SIZE)\n",
    "    elapsed = timeit.default_timer() - start_time\n",
    "    sys.stdout.write(\"Time Take per Iternation of training is : {0:%}\".format(elapsed))\n",
    "\n",
    "    result = model.evaluate(input_fn=val_input_fn)\n",
    "    #print(result)\n",
    "    sys.stdout.write(\"Classification accuracy: {0:.2%}\".format(result[\"accuracy\"]))\n",
    "    sys.stdout.flush()\n",
    "    count = count + 1\n",
    "\n",
    "# print(\"conv1-layer/bias\", model.get_variable_value('conv1-layer/act_quant/conv1-layer/act_quant/min/biased'))\n",
    "# print(\"conv1-layer/bias\", model.get_variable_value('conv1-layer/act_quant/conv1-layer/act_quant/min/local_step'))\n",
    "# print(\"conv1-layer/bias\", model.get_variable_value('conv1-layer/act_quant/max'))\n",
    "# print(\"conv1-layer/bias\", model.get_variable_value('conv1-layer/act_quant/min'))\n",
    "# print(\"conv1-layer/bias\", model.get_variable_value('conv1-layer/bias'))\n",
    "# print(\"conv1-layer/bias\", model.get_variable_value('conv1-layer/kernel'))\n",
    "# print(\"conv1-layer/bias\", model.get_variable_value('conv1-layer/weights_quant/max'))\n",
    "# print(\"conv1-layer/bias\", model.get_variable_value('conv1-layer/weights_quant/min'))"
   ]
  },
  {
   "cell_type": "code",
   "execution_count": 21,
   "metadata": {
    "scrolled": false
   },
   "outputs": [
    {
     "name": "stdout",
     "output_type": "stream",
     "text": [
      "INFO:tensorflow:Calling model_fn.\n",
      "INFO:tensorflow:Done calling model_fn.\n",
      "INFO:tensorflow:Signatures INCLUDED in export for Classify: None\n",
      "INFO:tensorflow:Signatures INCLUDED in export for Regress: None\n",
      "INFO:tensorflow:Signatures INCLUDED in export for Predict: ['serving_default']\n",
      "INFO:tensorflow:Signatures INCLUDED in export for Train: None\n",
      "INFO:tensorflow:Signatures INCLUDED in export for Eval: None\n",
      "INFO:tensorflow:Restoring parameters from 02_QAT_MNIST/model.ckpt-4500\n",
      "WARNING:tensorflow:From /home/rahul/anaconda3/envs/1-8/lib/python3.6/site-packages/tensorflow/python/estimator/estimator.py:1044: calling SavedModelBuilder.add_meta_graph_and_variables (from tensorflow.python.saved_model.builder_impl) with legacy_init_op is deprecated and will be removed in a future version.\n",
      "Instructions for updating:\n",
      "Pass your op to the equivalent parameter main_op instead.\n",
      "INFO:tensorflow:Assets added to graph.\n",
      "INFO:tensorflow:No assets to write.\n",
      "INFO:tensorflow:SavedModel written to: ./02_QAT_MNIST/export/temp-b'1547534361'/saved_model.pb\n"
     ]
    },
    {
     "data": {
      "text/plain": [
       "b'./02_QAT_MNIST/export/1547534361'"
      ]
     },
     "execution_count": 21,
     "metadata": {},
     "output_type": "execute_result"
    }
   ],
   "source": [
    "def make_serving_input_receiver_fn():\n",
    "    inputs = {'image': tf.placeholder(shape=[1,784], dtype=tf.float32, name='image')}\n",
    "    return tf.estimator.export.build_raw_serving_input_receiver_fn(inputs)\n",
    "\n",
    "if tf.gfile.Exists(export_dir):\n",
    "        tf.gfile.DeleteRecursively(export_dir)\n",
    "\n",
    "model.export_savedmodel(export_dir_base=export_dir,serving_input_receiver_fn=make_serving_input_receiver_fn(),as_text=False)"
   ]
  },
  {
   "cell_type": "code",
   "execution_count": 22,
   "metadata": {
    "scrolled": true
   },
   "outputs": [
    {
     "name": "stdout",
     "output_type": "stream",
     "text": [
      "INFO:tensorflow:Restoring parameters from ./02_QAT_MNIST/export/1547534361/variables/variables\n"
     ]
    }
   ],
   "source": [
    "saved_model_dir = os.path.join(export_dir, os.listdir(export_dir)[-1]) \n",
    "\n",
    "predictor_fn = tf.contrib.predictor.from_saved_model(\n",
    "  export_dir = saved_model_dir)\n",
    "\n"
   ]
  },
  {
   "cell_type": "code",
   "execution_count": 23,
   "metadata": {
    "scrolled": false
   },
   "outputs": [
    {
     "data": {
      "text/plain": [
       "Text(0.5, 1.0, 'Result: Pred. No. : 1')"
      ]
     },
     "execution_count": 23,
     "metadata": {},
     "output_type": "execute_result"
    },
    {
     "data": {
      "image/png": "[encoded data removed]",
      "text/plain": [
       "<Figure size 432x288 with 1 Axes>"
      ]
     },
     "metadata": {
      "needs_background": "light"
     },
     "output_type": "display_data"
    }
   ],
   "source": [
    "35\n",
    "dir = target + \"/PNGs/\"\n",
    "pngFname = dir + random.choice(os.listdir(dir))\n",
    "\n",
    "pngFile=open(pngFname,'rb')\n",
    "png_string = pngFile.read();\n",
    "pngFile.close()\n",
    "\n",
    "#sample = tf.cast(tf.image.decode_png(png_string, channels=1), tf.int8)\n",
    "sample = tf.cast(tf.image.decode_png(png_string, channels=1), tf.float32)\n",
    "\n",
    "a = np.ones(shape=(28,28,1),dtype=np.float32)    \n",
    "\n",
    "img = tf.reshape(sample, [28, 28, 1])\n",
    "\n",
    "with tf.Session() as sess:\n",
    "    a = img.eval()\n",
    "\n",
    "b = np.ones(shape=(1,784),dtype=np.float32)\n",
    "\n",
    "b = a.reshape((1,784))\n",
    "\n",
    "output = predictor_fn({'image': b})\n",
    "#print(output)\n",
    "#print (\"train_data.shape: \" + str(sample.get_shape()))\n",
    "#print (\"train_data.shape: \" + str(img.get_shape()))\n",
    "\n",
    "max = 0\n",
    "\n",
    "for x in range(10):\n",
    "    if output['probabilities'][0][x] >= output['probabilities'][0][max]:\n",
    "        max = x\n",
    "\n",
    "f, ax = plt.subplots()\n",
    "ax.imshow(a.reshape(img_shape), cmap='binary')\n",
    "xlabel = \"Result: Pred. No. : {0}\".format(max)\n",
    "ax.set_title(xlabel)\n"
   ]
  },
  {
   "cell_type": "code",
   "execution_count": 24,
   "metadata": {},
   "outputs": [],
   "source": [
    "# record_iterator = tf.python_io.tf_record_iterator(path=testing_recname)\n",
    "\n",
    "\n",
    "# count = 0\n",
    "# success = 0\n",
    "\n",
    "# with tf.Session() as sess:\n",
    "#     tf.train.start_queue_runners()\n",
    "\n",
    "#     for string_record in record_iterator:\n",
    "#         if count%100 == 0:\n",
    "#             print(\"Success / Total: \", success, \" / \", count, \"Accuracy: {0:.2%}\".format(success/(count+1)))\n",
    "\n",
    "#         example = tf.train.Example()\n",
    "#         example.ParseFromString(string_record)\n",
    "\n",
    "#         sample = tf.cast(tf.image.decode_png(example.features.feature['image/encoded'].bytes_list.value[0], channels=1), tf.float32)\n",
    "#         label = int(example.features.feature['image/class/label'].int64_list.value[0])\n",
    "\n",
    "#         a = np.ones(shape=(28,28,1),dtype=np.float32)    \n",
    "\n",
    "#         img = tf.reshape(sample, [28, 28, 1])\n",
    "\n",
    "#         with sess.as_default():\n",
    "#             a = img.eval()\n",
    "\n",
    "#         b = np.ones(shape=(1,784),dtype=np.float32)\n",
    "\n",
    "#         b = a.reshape((1,784))\n",
    "\n",
    "#         output = predictor_fn({'image': b})\n",
    "\n",
    "#         max = 0\n",
    "\n",
    "#         for x in range(10):\n",
    "#             if output['probabilities'][0][x] >= output['probabilities'][0][max]:\n",
    "#                 max = x\n",
    "\n",
    "#         if max == label:\n",
    "#             success = success + 1\n",
    "\n",
    "#         count = count + 1\n"
   ]
  },
  {
   "cell_type": "code",
   "execution_count": 25,
   "metadata": {
    "scrolled": false
   },
   "outputs": [
    {
     "name": "stdout",
     "output_type": "stream",
     "text": [
      "INFO:tensorflow:Restoring parameters from ./02_QAT_MNIST/export/1547534361/variables/variables\n",
      "INFO:tensorflow:The given SavedModel MetaGraphDef contains SignatureDefs with the following keys: {'serving_default'}\n",
      "INFO:tensorflow:input tensors info: \n",
      "INFO:tensorflow:Tensor's key in saved_model's tensor_map: image\n",
      "INFO:tensorflow: tensor name: image:0, shape: (-1, 784), type: DT_FLOAT\n",
      "INFO:tensorflow:output tensors info: \n",
      "INFO:tensorflow:Tensor's key in saved_model's tensor_map: probabilities\n",
      "INFO:tensorflow: tensor name: softmax_tensor:0, shape: (-1, 10), type: DT_FLOAT\n",
      "INFO:tensorflow:Tensor's key in saved_model's tensor_map: classes\n",
      "INFO:tensorflow: tensor name: ArgMax:0, shape: (-1), type: DT_INT64\n",
      "INFO:tensorflow:Restoring parameters from ./02_QAT_MNIST/export/1547534361/variables/variables\n",
      "INFO:tensorflow:Froze 8 variables.\n",
      "INFO:tensorflow:Converted 8 variables to const ops.\n"
     ]
    }
   ],
   "source": [
    "saved_model_dir = os.path.join(export_dir, os.listdir(export_dir)[-1]) \n",
    "\n",
    "converter = tf.contrib.lite.TFLiteConverter.from_saved_model(saved_model_dir)\n",
    "\n",
    "converter.inference_type = tf.contrib.lite.constants.QUANTIZED_UINT8\n",
    "# converter.inference_input_type = tf.contrib.lite.constants.FLOAT\n",
    "# converter.output_format = tf.contrib.lite.constants.GRAPHVIZ_DOT\n",
    "converter.output_format = tf.contrib.lite.constants.TFLITE\n",
    "input_arrays = converter.get_input_arrays()\n",
    "converter.quantized_input_stats = {input_arrays[0] : (0, 1)}  # mean, std_dev\n",
    "converter.default_ranges_stats = (-127,127)\n",
    "\n",
    "tflite_model = converter.convert()\n",
    "\n",
    "if (converter.output_format == tf.contrib.lite.constants.TFLITE):\n",
    "    open(\"converted_model.tflite\", \"wb\").write(tflite_model)\n",
    "\n",
    "if (converter.output_format == tf.contrib.lite.constants.GRAPHVIZ_DOT):\n",
    "    open(\"converted_model.graphdot\", \"wb\").write(tflite_model)"
   ]
  },
  {
   "cell_type": "code",
   "execution_count": 26,
   "metadata": {
    "scrolled": true
   },
   "outputs": [
    {
     "name": "stdout",
     "output_type": "stream",
     "text": [
      "output_data:  [[7]]\n"
     ]
    },
    {
     "data": {
      "text/plain": [
       "Text(0.5, 1.0, 'Result: Pred. No. : [[7]]')"
      ]
     },
     "execution_count": 26,
     "metadata": {},
     "output_type": "execute_result"
    },
    {
     "data": {
      "image/png": "[encoded data removed]",
      "text/plain": [
       "<Figure size 432x288 with 1 Axes>"
      ]
     },
     "metadata": {
      "needs_background": "light"
     },
     "output_type": "display_data"
    }
   ],
   "source": [
    "interpreter = tf.contrib.lite.Interpreter(model_path=\"converted_model.tflite\")\n",
    "interpreter.allocate_tensors()\n",
    "\n",
    "# Get input and output tensors.\n",
    "input_details = interpreter.get_input_details()\n",
    "output_details = interpreter.get_output_details()\n",
    "\n",
    "input_shape = input_details[0]['shape']\n",
    "\n",
    "########################################################\n",
    "\n",
    "dir = target + \"/PNGs/\"\n",
    "pngFname = dir + random.choice(os.listdir(dir))\n",
    "\n",
    "pngFile=open(pngFname,'rb')\n",
    "png_string = pngFile.read();\n",
    "pngFile.close()\n",
    "\n",
    "sample = tf.cast(tf.image.decode_png(png_string, channels=1), tf.uint8)\n",
    "\n",
    "a = np.ones(shape=(28,28,1),dtype=np.uint8)    \n",
    "\n",
    "img = tf.reshape(sample, [1, 784])\n",
    "\n",
    "with tf.Session() as sess:\n",
    "    a = img.eval()\n",
    "\n",
    "b = np.ones(shape=input_shape,dtype=np.uint8)\n",
    "b = a.reshape(input_shape)\n",
    "\n",
    "########################################################\n",
    "\n",
    "input_data = np.array(np.random.random_sample(input_shape), dtype=np.uint8)\n",
    "\n",
    "with tf.Session() as sess:\n",
    "    input_data = img.eval()\n",
    "\n",
    "interpreter.set_tensor(input_details[0]['index'], input_data)\n",
    "\n",
    "interpreter.invoke()\n",
    "output_data = interpreter.get_tensor(output_details[0]['index'])\n",
    "print(\"output_data: \", output_data)\n",
    "\n",
    "f, ax = plt.subplots()\n",
    "ax.imshow(input_data.reshape(img_shape), cmap='gray')\n",
    "xlabel = \"Result: Pred. No. : {0}\".format(output_data)\n",
    "ax.set_title(xlabel)\n"
   ]
  },
  {
   "cell_type": "code",
   "execution_count": 27,
   "metadata": {
    "scrolled": true
   },
   "outputs": [
    {
     "name": "stdout",
     "output_type": "stream",
     "text": [
      "Success / Total:  0  /  0 Accuracy: 0.00%\n",
      "Success / Total:  981  /  1000 Accuracy: 98.00%\n",
      "Success / Total:  1950  /  2000 Accuracy: 97.45%\n",
      "Success / Total:  2914  /  3000 Accuracy: 97.10%\n",
      "Success / Total:  3898  /  4000 Accuracy: 97.43%\n",
      "Success / Total:  4868  /  5000 Accuracy: 97.34%\n",
      "Success / Total:  5860  /  6000 Accuracy: 97.65%\n",
      "Success / Total:  6847  /  7000 Accuracy: 97.80%\n",
      "Success / Total:  7843  /  8000 Accuracy: 98.03%\n",
      "Success / Total:  8838  /  9000 Accuracy: 98.19%\n",
      "Final : Success / Total:  9821  /  10000 Accuracy: 98.20%\n"
     ]
    }
   ],
   "source": [
    "import cv2\n",
    "\n",
    "record_iterator = tf.python_io.tf_record_iterator(path=testing_recname)\n",
    "input_data = np.array(np.random.random_sample(input_shape), dtype=np.uint8)\n",
    "\n",
    "interpreter.reset_all_variables()\n",
    "interpreter = tf.contrib.lite.Interpreter(model_path=\"converted_model.tflite\")\n",
    "interpreter.allocate_tensors()\n",
    "\n",
    "input_details = interpreter.get_input_details()\n",
    "output_details = interpreter.get_output_details()\n",
    "\n",
    "\n",
    "count = 0\n",
    "success = 0\n",
    "\n",
    "for string_record in record_iterator:\n",
    "    if count%1000 == 0:\n",
    "        print(\"Success / Total: \", success, \" / \", count, \"Accuracy: {0:.2%}\".format(success/(count+1)))\n",
    "\n",
    "    example = tf.train.Example()\n",
    "    example.ParseFromString(string_record)\n",
    "\n",
    "    label = int(example.features.feature['image/class/label'].int64_list.value[0])\n",
    "\n",
    "#   sample = tf.cast(tf.image.decode_png(example.features.feature['image/encoded'].bytes_list.value[0], channels=1), tf.uint8)\n",
    "    x = np.frombuffer(example.features.feature['image/encoded'].bytes_list.value[0], dtype='uint8')\n",
    "    sample = cv2.imdecode(x, cv2.IMREAD_UNCHANGED).reshape(1,784);\n",
    "\n",
    "    interpreter.set_tensor(input_details[0]['index'], sample)\n",
    "\n",
    "    interpreter.invoke()\n",
    "\n",
    "    output_data = interpreter.get_tensor(output_details[0]['index'])\n",
    "\n",
    "    if output_data[0][0] == label:\n",
    "        success = success + 1\n",
    "\n",
    "    count = count + 1\n",
    "\n",
    "print(\"Final : Success / Total: \", success, \" / \", count, \"Accuracy: {0:.2%}\".format(success/(count+1)))\n"
   ]
  },
  {
   "cell_type": "code",
   "execution_count": 28,
   "metadata": {},
   "outputs": [],
   "source": [
    "    keys_to_features = {\n",
    "        \"image/encoded\":  tf.FixedLenFeature([], tf.string),\n",
    "        \"image/format\":  tf.FixedLenFeature([], tf.string),\n",
    "        \"image/class/label\": tf.FixedLenFeature([], tf.int64),\n",
    "        \"image/height\": tf.FixedLenFeature([], tf.int64),\n",
    "        \"image/width\": tf.FixedLenFeature([], tf.int64)\n",
    "    }\n"
   ]
  },
  {
   "cell_type": "code",
   "execution_count": null,
   "metadata": {},
   "outputs": [],
   "source": []
  }
 ],
 "metadata": {
  "kernelspec": {
   "display_name": "Python 3",
   "language": "python",
   "name": "python3"
  },
  "language_info": {
   "codemirror_mode": {
    "name": "ipython",
    "version": 3
   },
   "file_extension": ".py",
   "mimetype": "text/x-python",
   "name": "python",
   "nbconvert_exporter": "python",
   "pygments_lexer": "ipython3",
   "version": "3.6.8"
  }
 },
 "nbformat": 4,
 "nbformat_minor": 2
}
